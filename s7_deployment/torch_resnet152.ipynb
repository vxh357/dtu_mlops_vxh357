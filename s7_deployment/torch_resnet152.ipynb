{
 "cells": [
  {
   "cell_type": "code",
   "execution_count": 25,
   "metadata": {},
   "outputs": [
    {
     "name": "stdout",
     "output_type": "stream",
     "text": [
      "Unscripted Model Time: 7.203471150000405 seconds\n",
      "Scripted Model Time: 7.004129645799549 seconds\n",
      "Percentage Increase in Efficiency: 2.85%\n"
     ]
    }
   ],
   "source": [
    "import torch\n",
    "import torchvision.models as models\n",
    "import torch.jit\n",
    "import torch.utils.benchmark as benchmark\n",
    "\n",
    "# Load ResNet-152 (you can use a pretrained or random initialized model)\n",
    "model = models.resnet152(pretrained=True)\n",
    "\n",
    "# Set the model to evaluation mode\n",
    "model.eval()\n",
    "\n",
    "# Create a random input tensor to use for tracing\n",
    "input_tensor = torch.randn(1, 3, 224, 224)  # Assuming 3-channel images of size 224x224\n",
    "\n",
    "# Script the model using torch.jit.script\n",
    "scripted_model = torch.jit.script(model)\n",
    "\n",
    "# Generate random input data\n",
    "input_data = torch.randn(32, 3, 224, 224)  # Creating a batch of 32 input samples for benchmarking\n",
    "\n",
    "# Define a benchmark timer for the unscripted model\n",
    "timer_unscripted = benchmark.Timer(\n",
    "    stmt=\"model(input_data)\",\n",
    "    setup=\"from __main__ import model, input_data\",\n",
    "    num_threads=1,  # You can adjust the number of threads for multi-threaded inference\n",
    ")\n",
    "\n",
    "# Define a benchmark timer for the scripted modelf\n",
    "timer_scripted = benchmark.Timer(\n",
    "    stmt=\"scripted_model(input_data)\",\n",
    "    setup=\"from __main__ import scripted_model, input_data\",\n",
    "    num_threads=1,  # You can adjust the number of threads for multi-threaded inference\n",
    ")\n",
    "\n",
    "# Run the benchmarks\n",
    "unscripted_time = timer_unscripted.timeit(10)  # Run 10 iterations\n",
    "scripted_time = timer_scripted.timeit(10)  # Run 10 iterations\n",
    "\n",
    "# Extract the timing values from Measurement objects\n",
    "unscripted_time_mean = unscripted_time.mean\n",
    "scripted_time_mean = scripted_time.mean\n",
    "\n",
    "# Calculate the percentage increase in efficiency\n",
    "efficiency_increase = (unscripted_time_mean / scripted_time_mean - 1) * 100\n",
    "\n",
    "# Print the benchmark results\n",
    "print(f\"Unscripted Model Time: {unscripted_time_mean} seconds\")\n",
    "print(f\"Scripted Model Time: {scripted_time_mean} seconds\")\n",
    "print(f\"Percentage Increase in Efficiency: {efficiency_increase:.2f}%\")\n"
   ]
  },
  {
   "cell_type": "code",
   "execution_count": null,
   "metadata": {},
   "outputs": [],
   "source": []
  }
 ],
 "metadata": {
  "kernelspec": {
   "display_name": "dtu_mlops",
   "language": "python",
   "name": "python3"
  },
  "language_info": {
   "codemirror_mode": {
    "name": "ipython",
    "version": 3
   },
   "file_extension": ".py",
   "mimetype": "text/x-python",
   "name": "python",
   "nbconvert_exporter": "python",
   "pygments_lexer": "ipython3",
   "version": "3.11.7"
  }
 },
 "nbformat": 4,
 "nbformat_minor": 2
}
